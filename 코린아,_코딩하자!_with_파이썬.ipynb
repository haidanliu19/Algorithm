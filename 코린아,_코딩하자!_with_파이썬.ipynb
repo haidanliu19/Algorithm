{
  "nbformat": 4,
  "nbformat_minor": 0,
  "metadata": {
    "colab": {
      "name": "코린아, 코딩하자! with 파이썬.ipynb",
      "provenance": [],
      "collapsed_sections": []
    },
    "kernelspec": {
      "name": "python3",
      "display_name": "Python 3"
    },
    "language_info": {
      "name": "python"
    }
  },
  "cells": [
    {
      "cell_type": "markdown",
      "metadata": {
        "id": "5cGW-5_q-8hu"
      },
      "source": [
        "[코딩](https://www.inflearn.com/course/%EC%BD%94%EB%A6%B0%EC%95%84-%EC%BD%94%EB%94%A9%ED%95%98%EC%9E%90-%ED%8C%8C%EC%9D%B4%EC%8D%AC-%EA%B8%B0%EC%B4%88)"
      ]
    },
    {
      "cell_type": "markdown",
      "metadata": {
        "id": "jvyIYAGiBH3-"
      },
      "source": [
        "# 열린 사물함의 갯수 문제"
      ]
    },
    {
      "cell_type": "code",
      "metadata": {
        "colab": {
          "base_uri": "https://localhost:8080/"
        },
        "id": "jwq7Itn-BEGC",
        "outputId": "a267a803-cbbf-40a0-f2bc-4a20fe320618"
      },
      "source": [
        "n = 100\n",
        "lockers = [-1] * (n+1)\n",
        "print(lockers)\n",
        "for i in range(1, 101):\n",
        "    lockers[i] = i\n",
        "print(lockers)"
      ],
      "execution_count": null,
      "outputs": [
        {
          "output_type": "stream",
          "text": [
            "[-1, -1, -1, -1, -1, -1, -1, -1, -1, -1, -1, -1, -1, -1, -1, -1, -1, -1, -1, -1, -1, -1, -1, -1, -1, -1, -1, -1, -1, -1, -1, -1, -1, -1, -1, -1, -1, -1, -1, -1, -1, -1, -1, -1, -1, -1, -1, -1, -1, -1, -1, -1, -1, -1, -1, -1, -1, -1, -1, -1, -1, -1, -1, -1, -1, -1, -1, -1, -1, -1, -1, -1, -1, -1, -1, -1, -1, -1, -1, -1, -1, -1, -1, -1, -1, -1, -1, -1, -1, -1, -1, -1, -1, -1, -1, -1, -1, -1, -1, -1, -1]\n",
            "[-1, 1, 2, 3, 4, 5, 6, 7, 8, 9, 10, 11, 12, 13, 14, 15, 16, 17, 18, 19, 20, 21, 22, 23, 24, 25, 26, 27, 28, 29, 30, 31, 32, 33, 34, 35, 36, 37, 38, 39, 40, 41, 42, 43, 44, 45, 46, 47, 48, 49, 50, 51, 52, 53, 54, 55, 56, 57, 58, 59, 60, 61, 62, 63, 64, 65, 66, 67, 68, 69, 70, 71, 72, 73, 74, 75, 76, 77, 78, 79, 80, 81, 82, 83, 84, 85, 86, 87, 88, 89, 90, 91, 92, 93, 94, 95, 96, 97, 98, 99, 100]\n"
          ],
          "name": "stdout"
        }
      ]
    },
    {
      "cell_type": "code",
      "metadata": {
        "colab": {
          "base_uri": "https://localhost:8080/"
        },
        "id": "4HVUmXj8Be8a",
        "outputId": "649d249c-11ae-4f1c-ab80-355f342d2c92"
      },
      "source": [
        "for N in range(1, 101):\n",
        "    for j in range(N, 101, N):\n",
        "        if (lockers[j] > 0):\n",
        "            lockers[j] = 0\n",
        "        else:\n",
        "            lockers[j] = j\n",
        "\n",
        "print(lockers)"
      ],
      "execution_count": null,
      "outputs": [
        {
          "output_type": "stream",
          "text": [
            "[-1, 0, 2, 3, 0, 5, 6, 7, 8, 0, 10, 11, 12, 13, 14, 15, 0, 17, 18, 19, 20, 21, 22, 23, 24, 0, 26, 27, 28, 29, 30, 31, 32, 33, 34, 35, 0, 37, 38, 39, 40, 41, 42, 43, 44, 45, 46, 47, 48, 0, 50, 51, 52, 53, 54, 55, 56, 57, 58, 59, 60, 61, 62, 63, 0, 65, 66, 67, 68, 69, 70, 71, 72, 73, 74, 75, 76, 77, 78, 79, 80, 0, 82, 83, 84, 85, 86, 87, 88, 89, 90, 91, 92, 93, 94, 95, 96, 97, 98, 99, 0]\n"
          ],
          "name": "stdout"
        }
      ]
    },
    {
      "cell_type": "code",
      "metadata": {
        "colab": {
          "base_uri": "https://localhost:8080/"
        },
        "id": "AJ8SlJ2YB4zW",
        "outputId": "d4744abb-c451-4671-f21c-b516dd47050d"
      },
      "source": [
        "open_lockers = []\n",
        "for i in lockers:\n",
        "    if (i == 0):\n",
        "        open_lockers.append(i)\n",
        "print('열린 사물함의 갯수는: ',len(open_lockers))\n",
        "print('열린 사물함은: ',open_lockers)"
      ],
      "execution_count": null,
      "outputs": [
        {
          "output_type": "stream",
          "text": [
            "열린 사물함의 갯수는:  10\n",
            "열린 사물함은:  [0, 0, 0, 0, 0, 0, 0, 0, 0, 0]\n"
          ],
          "name": "stdout"
        }
      ]
    },
    {
      "cell_type": "markdown",
      "metadata": {
        "id": "9guB9Y3tI5SF"
      },
      "source": [
        "# 에라토스테네스의 체"
      ]
    },
    {
      "cell_type": "code",
      "metadata": {
        "colab": {
          "base_uri": "https://localhost:8080/"
        },
        "id": "Ykmy1aesB42t",
        "outputId": "f7ce1335-81d5-4d75-dac2-477d065227d8"
      },
      "source": [
        "import math\n",
        "\n",
        "def isPrime2(n):\n",
        "    for i in range(2, math.floor(math.sqrt(n)) +1):\n",
        "        if (n % i ==0):\n",
        "            return False\n",
        "    return True\n",
        "\n",
        "isPrime2(2)"
      ],
      "execution_count": null,
      "outputs": [
        {
          "output_type": "execute_result",
          "data": {
            "text/plain": [
              "True"
            ]
          },
          "metadata": {
            "tags": []
          },
          "execution_count": 24
        }
      ]
    },
    {
      "cell_type": "code",
      "metadata": {
        "colab": {
          "base_uri": "https://localhost:8080/"
        },
        "id": "igvjbWvMB463",
        "outputId": "54cfc9e4-17a0-46fd-989c-b7b5208f79eb"
      },
      "source": [
        "n = 100\n",
        "sieve = [False, False] + [True] * (n-1)\n",
        "print(sieve)\n",
        "primes = []\n",
        "for i in range(2,n+1):\n",
        "    if (sieve[i]):\n",
        "        primes.append(i)\n",
        "    for j in range( i * 2, n+1, i):\n",
        "        sieve[j] = False\n",
        "print(sieve)\n",
        "print(primes)\n",
        "print(len(primes))"
      ],
      "execution_count": null,
      "outputs": [
        {
          "output_type": "stream",
          "text": [
            "[False, False, True, True, True, True, True, True, True, True, True, True, True, True, True, True, True, True, True, True, True, True, True, True, True, True, True, True, True, True, True, True, True, True, True, True, True, True, True, True, True, True, True, True, True, True, True, True, True, True, True, True, True, True, True, True, True, True, True, True, True, True, True, True, True, True, True, True, True, True, True, True, True, True, True, True, True, True, True, True, True, True, True, True, True, True, True, True, True, True, True, True, True, True, True, True, True, True, True, True, True]\n",
            "[False, False, True, True, False, True, False, True, False, False, False, True, False, True, False, False, False, True, False, True, False, False, False, True, False, False, False, False, False, True, False, True, False, False, False, False, False, True, False, False, False, True, False, True, False, False, False, True, False, False, False, False, False, True, False, False, False, False, False, True, False, True, False, False, False, False, False, True, False, False, False, True, False, True, False, False, False, False, False, True, False, False, False, True, False, False, False, False, False, True, False, False, False, False, False, False, False, True, False, False, False]\n",
            "[2, 3, 5, 7, 11, 13, 17, 19, 23, 29, 31, 37, 41, 43, 47, 53, 59, 61, 67, 71, 73, 79, 83, 89, 97]\n",
            "25\n"
          ],
          "name": "stdout"
        }
      ]
    },
    {
      "cell_type": "markdown",
      "metadata": {
        "id": "hwtIkS5b-6VV"
      },
      "source": [
        "#   천일 후에 만나자"
      ]
    },
    {
      "cell_type": "code",
      "metadata": {
        "id": "K1D0po_4_ow0"
      },
      "source": [
        "def leapyear(y):\n",
        "    if ((y % 4 == 0 and y % 100 != 0)or y % 400 ==0):\n",
        "        return True\n",
        "    else:\n",
        "        return False\n",
        "\n",
        "def invalidaDay(year, m, d):\n",
        "    numOfDays = 31\n",
        "    if (m in [4,6,9,11]):\n",
        "        numOfDays = 30\n",
        "    if (m ==2):\n",
        "        if(leapyear(year)):\n",
        "            numOfDays =29\n",
        "        else:\n",
        "            numOfDays =28\n",
        "    if (d > numOfDays):\n",
        "        return True\n",
        "    else:\n",
        "        return False"
      ],
      "execution_count": 6,
      "outputs": []
    },
    {
      "cell_type": "code",
      "metadata": {
        "id": "_IUszO4WB4-_",
        "colab": {
          "base_uri": "https://localhost:8080/"
        },
        "outputId": "7fa7d62a-08ce-4bf2-9d1f-765be18ea0ab"
      },
      "source": [
        "year = 2020\n",
        "month = 7\n",
        "day =9\n",
        "n = 1000\n",
        "\n",
        "for _ in range(n): \n",
        "    day += 1\n",
        "    if (invalidaDay(year, month, day)):\n",
        "        day = 1\n",
        "        month +=1\n",
        "        if(month>12):\n",
        "            month = 1\n",
        "            year+=1\n",
        "print(year,month,day)"
      ],
      "execution_count": null,
      "outputs": [
        {
          "output_type": "stream",
          "text": [
            "2023 4 5\n"
          ],
          "name": "stdout"
        }
      ]
    },
    {
      "cell_type": "code",
      "metadata": {
        "colab": {
          "base_uri": "https://localhost:8080/"
        },
        "id": "qlqlSTMkAfKZ",
        "outputId": "8fa75f2e-4efa-4b90-f4f2-09e0648ee19b"
      },
      "source": [
        "year = 2020\n",
        "month = 7\n",
        "day =9\n",
        "n = 1000\n",
        "import datetime\n",
        "day = datetime.date(year, month, day)\n",
        "theday = day + datetime.timedelta(n)\n",
        "print(theday)"
      ],
      "execution_count": null,
      "outputs": [
        {
          "output_type": "stream",
          "text": [
            "2023-04-05\n"
          ],
          "name": "stdout"
        }
      ]
    },
    {
      "cell_type": "markdown",
      "metadata": {
        "id": "eBxkDNg225pl"
      },
      "source": [
        "# 단력 만들기"
      ]
    },
    {
      "cell_type": "code",
      "metadata": {
        "colab": {
          "base_uri": "https://localhost:8080/"
        },
        "id": "PzjjMe5o27Hv",
        "outputId": "a4547594-67d1-47b5-9962-50c2ef9093b6"
      },
      "source": [
        "year = 2020\n",
        "month = 7\n",
        "day_of_week = 3\n",
        "\n",
        "print(year, '년',month,'월:')\n",
        "\n",
        "weekdays = ['일','월','화','수','목','금','토']\n",
        "#print(weekdays)\n",
        "for day in weekdays:\n",
        "    print(' ' ,day, end= ' ')\n",
        "\n",
        "print()\n",
        "\n",
        "for _ in range(day_of_week):\n",
        "    print('    ',end = ' ')\n",
        "\n",
        "def leapyear(y):\n",
        "    if ((y % 4 == 0 and y % 100 != 0)or y % 400 ==0):\n",
        "        return True\n",
        "    else:\n",
        "        return False\n",
        "\n",
        "def dayOfMonth(y,m):\n",
        "    numOfDays = 31\n",
        "    if (m in [4,6,9,11]):\n",
        "        numOfDays = 30\n",
        "    if (m ==2):\n",
        "        if(leapyear(year)):\n",
        "            numOfDays =29\n",
        "        else:\n",
        "            numOfDays =28\n",
        "    return numOfDays\n",
        "\n",
        "numOfMonth= dayOfMonth(year,month)\n",
        "for day in range(1, numOfMonth+1):\n",
        "    if (day<10):\n",
        "        print('  ',day, end=' ')\n",
        "    else:\n",
        "        print(' ',day, end=' ')\n",
        "    if ((day_of_week + day) % 7 ==0):\n",
        "        print()\n",
        "\n",
        "print()"
      ],
      "execution_count": 11,
      "outputs": [
        {
          "output_type": "stream",
          "text": [
            "2020 년 7 월:\n",
            "  일   월   화   수   목   금   토 \n",
            "                  1    2    3    4 \n",
            "   5    6    7    8    9   10   11 \n",
            "  12   13   14   15   16   17   18 \n",
            "  19   20   21   22   23   24   25 \n",
            "  26   27   28   29   30   31 \n"
          ],
          "name": "stdout"
        }
      ]
    },
    {
      "cell_type": "code",
      "metadata": {
        "colab": {
          "base_uri": "https://localhost:8080/"
        },
        "id": "krHkBoSQ4wO5",
        "outputId": "d3f53d96-5d5e-4107-bec6-52f69be5e39a"
      },
      "source": [
        "def dayOfTheWeek(y,m,d):\n",
        "    t1 = y-(14-m) //12\n",
        "    t2 = t1+(t1//4) - (t1//100) + (t1//400)\n",
        "    t3 = m+12 *((14-m)//12)-2\n",
        "    return (d+t2 +(31*t3 //12)) % 7\n",
        "\n",
        "year = 2020\n",
        "month = 7\n",
        "day = 10\n",
        "print(dayOfTheWeek(year,month,day))"
      ],
      "execution_count": 12,
      "outputs": [
        {
          "output_type": "stream",
          "text": [
            "5\n"
          ],
          "name": "stdout"
        }
      ]
    },
    {
      "cell_type": "code",
      "metadata": {
        "colab": {
          "base_uri": "https://localhost:8080/"
        },
        "id": "c07e6dcj5JXI",
        "outputId": "cdde6090-1f13-433d-b553-39ff5fd40980"
      },
      "source": [
        "def printCalendar(y,m):\n",
        "    numOfMonth = dayOfMonth(y,m)\n",
        "    day_of_week = dayOfTheWeek(y,m,1)\n",
        "    print(y,'년',m,'월:')\n",
        "\n",
        "    for day in weekdays:\n",
        "        print(' ',day,end=' ')\n",
        "    print()\n",
        "\n",
        "    \n",
        "    for _ in range(day_of_week):\n",
        "        print('    ',end = ' ')\n",
        "        \n",
        "    for day in range(1, numOfMonth+1):\n",
        "        if (day<10):\n",
        "            print('  ',day, end=' ')\n",
        "        else:\n",
        "            print(' ',day, end=' ')\n",
        "        if ((day_of_week + day) % 7 ==0):\n",
        "            print()\n",
        "    print()\n",
        "year= 2021\n",
        "month = 7\n",
        "printCalendar(year,month)"
      ],
      "execution_count": 24,
      "outputs": [
        {
          "output_type": "stream",
          "text": [
            "2021 년 7 월:\n",
            "  일   월   화   수   목   금   토 \n",
            "                       1    2    3 \n",
            "   4    5    6    7    8    9   10 \n",
            "  11   12   13   14   15   16   17 \n",
            "  18   19   20   21   22   23   24 \n",
            "  25   26   27   28   29   30   31 \n",
            "\n"
          ],
          "name": "stdout"
        }
      ]
    }
  ]
}