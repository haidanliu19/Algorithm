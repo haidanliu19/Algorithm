{
  "nbformat": 4,
  "nbformat_minor": 0,
  "metadata": {
    "colab": {
      "name": "코린아, 코딩하자! with 파이썬.ipynb",
      "provenance": [],
      "collapsed_sections": []
    },
    "kernelspec": {
      "name": "python3",
      "display_name": "Python 3"
    },
    "language_info": {
      "name": "python"
    }
  },
  "cells": [
    {
      "cell_type": "markdown",
      "metadata": {
        "id": "5cGW-5_q-8hu"
      },
      "source": [
        "[코딩](https://www.inflearn.com/course/%EC%BD%94%EB%A6%B0%EC%95%84-%EC%BD%94%EB%94%A9%ED%95%98%EC%9E%90-%ED%8C%8C%EC%9D%B4%EC%8D%AC-%EA%B8%B0%EC%B4%88)"
      ]
    },
    {
      "cell_type": "markdown",
      "metadata": {
        "id": "jvyIYAGiBH3-"
      },
      "source": [
        "# 열린 사물함의 갯수 문제"
      ]
    },
    {
      "cell_type": "code",
      "metadata": {
        "colab": {
          "base_uri": "https://localhost:8080/"
        },
        "id": "jwq7Itn-BEGC",
        "outputId": "a267a803-cbbf-40a0-f2bc-4a20fe320618"
      },
      "source": [
        "n = 100\n",
        "lockers = [-1] * (n+1)\n",
        "print(lockers)\n",
        "for i in range(1, 101):\n",
        "    lockers[i] = i\n",
        "print(lockers)"
      ],
      "execution_count": null,
      "outputs": [
        {
          "output_type": "stream",
          "text": [
            "[-1, -1, -1, -1, -1, -1, -1, -1, -1, -1, -1, -1, -1, -1, -1, -1, -1, -1, -1, -1, -1, -1, -1, -1, -1, -1, -1, -1, -1, -1, -1, -1, -1, -1, -1, -1, -1, -1, -1, -1, -1, -1, -1, -1, -1, -1, -1, -1, -1, -1, -1, -1, -1, -1, -1, -1, -1, -1, -1, -1, -1, -1, -1, -1, -1, -1, -1, -1, -1, -1, -1, -1, -1, -1, -1, -1, -1, -1, -1, -1, -1, -1, -1, -1, -1, -1, -1, -1, -1, -1, -1, -1, -1, -1, -1, -1, -1, -1, -1, -1, -1]\n",
            "[-1, 1, 2, 3, 4, 5, 6, 7, 8, 9, 10, 11, 12, 13, 14, 15, 16, 17, 18, 19, 20, 21, 22, 23, 24, 25, 26, 27, 28, 29, 30, 31, 32, 33, 34, 35, 36, 37, 38, 39, 40, 41, 42, 43, 44, 45, 46, 47, 48, 49, 50, 51, 52, 53, 54, 55, 56, 57, 58, 59, 60, 61, 62, 63, 64, 65, 66, 67, 68, 69, 70, 71, 72, 73, 74, 75, 76, 77, 78, 79, 80, 81, 82, 83, 84, 85, 86, 87, 88, 89, 90, 91, 92, 93, 94, 95, 96, 97, 98, 99, 100]\n"
          ],
          "name": "stdout"
        }
      ]
    },
    {
      "cell_type": "code",
      "metadata": {
        "colab": {
          "base_uri": "https://localhost:8080/"
        },
        "id": "4HVUmXj8Be8a",
        "outputId": "649d249c-11ae-4f1c-ab80-355f342d2c92"
      },
      "source": [
        "for N in range(1, 101):\n",
        "    for j in range(N, 101, N):\n",
        "        if (lockers[j] > 0):\n",
        "            lockers[j] = 0\n",
        "        else:\n",
        "            lockers[j] = j\n",
        "\n",
        "print(lockers)"
      ],
      "execution_count": null,
      "outputs": [
        {
          "output_type": "stream",
          "text": [
            "[-1, 0, 2, 3, 0, 5, 6, 7, 8, 0, 10, 11, 12, 13, 14, 15, 0, 17, 18, 19, 20, 21, 22, 23, 24, 0, 26, 27, 28, 29, 30, 31, 32, 33, 34, 35, 0, 37, 38, 39, 40, 41, 42, 43, 44, 45, 46, 47, 48, 0, 50, 51, 52, 53, 54, 55, 56, 57, 58, 59, 60, 61, 62, 63, 0, 65, 66, 67, 68, 69, 70, 71, 72, 73, 74, 75, 76, 77, 78, 79, 80, 0, 82, 83, 84, 85, 86, 87, 88, 89, 90, 91, 92, 93, 94, 95, 96, 97, 98, 99, 0]\n"
          ],
          "name": "stdout"
        }
      ]
    },
    {
      "cell_type": "code",
      "metadata": {
        "colab": {
          "base_uri": "https://localhost:8080/"
        },
        "id": "AJ8SlJ2YB4zW",
        "outputId": "d4744abb-c451-4671-f21c-b516dd47050d"
      },
      "source": [
        "open_lockers = []\n",
        "for i in lockers:\n",
        "    if (i == 0):\n",
        "        open_lockers.append(i)\n",
        "print('열린 사물함의 갯수는: ',len(open_lockers))\n",
        "print('열린 사물함은: ',open_lockers)"
      ],
      "execution_count": null,
      "outputs": [
        {
          "output_type": "stream",
          "text": [
            "열린 사물함의 갯수는:  10\n",
            "열린 사물함은:  [0, 0, 0, 0, 0, 0, 0, 0, 0, 0]\n"
          ],
          "name": "stdout"
        }
      ]
    },
    {
      "cell_type": "markdown",
      "metadata": {
        "id": "9guB9Y3tI5SF"
      },
      "source": [
        "# 에라토스테네스의 체"
      ]
    },
    {
      "cell_type": "code",
      "metadata": {
        "colab": {
          "base_uri": "https://localhost:8080/"
        },
        "id": "Ykmy1aesB42t",
        "outputId": "f7ce1335-81d5-4d75-dac2-477d065227d8"
      },
      "source": [
        "import math\n",
        "\n",
        "def isPrime2(n):\n",
        "    for i in range(2, math.floor(math.sqrt(n)) +1):\n",
        "        if (n % i ==0):\n",
        "            return False\n",
        "    return True\n",
        "\n",
        "isPrime2(2)"
      ],
      "execution_count": null,
      "outputs": [
        {
          "output_type": "execute_result",
          "data": {
            "text/plain": [
              "True"
            ]
          },
          "metadata": {
            "tags": []
          },
          "execution_count": 24
        }
      ]
    },
    {
      "cell_type": "code",
      "metadata": {
        "colab": {
          "base_uri": "https://localhost:8080/"
        },
        "id": "igvjbWvMB463",
        "outputId": "54cfc9e4-17a0-46fd-989c-b7b5208f79eb"
      },
      "source": [
        "n = 100\n",
        "sieve = [False, False] + [True] * (n-1)\n",
        "print(sieve)\n",
        "primes = []\n",
        "for i in range(2,n+1):\n",
        "    if (sieve[i]):\n",
        "        primes.append(i)\n",
        "    for j in range( i * 2, n+1, i):\n",
        "        sieve[j] = False\n",
        "print(sieve)\n",
        "print(primes)\n",
        "print(len(primes))"
      ],
      "execution_count": null,
      "outputs": [
        {
          "output_type": "stream",
          "text": [
            "[False, False, True, True, True, True, True, True, True, True, True, True, True, True, True, True, True, True, True, True, True, True, True, True, True, True, True, True, True, True, True, True, True, True, True, True, True, True, True, True, True, True, True, True, True, True, True, True, True, True, True, True, True, True, True, True, True, True, True, True, True, True, True, True, True, True, True, True, True, True, True, True, True, True, True, True, True, True, True, True, True, True, True, True, True, True, True, True, True, True, True, True, True, True, True, True, True, True, True, True, True]\n",
            "[False, False, True, True, False, True, False, True, False, False, False, True, False, True, False, False, False, True, False, True, False, False, False, True, False, False, False, False, False, True, False, True, False, False, False, False, False, True, False, False, False, True, False, True, False, False, False, True, False, False, False, False, False, True, False, False, False, False, False, True, False, True, False, False, False, False, False, True, False, False, False, True, False, True, False, False, False, False, False, True, False, False, False, True, False, False, False, False, False, True, False, False, False, False, False, False, False, True, False, False, False]\n",
            "[2, 3, 5, 7, 11, 13, 17, 19, 23, 29, 31, 37, 41, 43, 47, 53, 59, 61, 67, 71, 73, 79, 83, 89, 97]\n",
            "25\n"
          ],
          "name": "stdout"
        }
      ]
    },
    {
      "cell_type": "markdown",
      "metadata": {
        "id": "hwtIkS5b-6VV"
      },
      "source": [
        "#   천일 후에 만나자"
      ]
    },
    {
      "cell_type": "code",
      "metadata": {
        "id": "K1D0po_4_ow0"
      },
      "source": [
        "def leapyear(y):\n",
        "    if ((y % 4 == 0 and y % 100 != 0)or y % 400 ==0):\n",
        "        return True\n",
        "    else:\n",
        "        return False\n",
        "\n",
        "def invalidaDay(year, m, d):\n",
        "    numOfDays = 31\n",
        "    if (m in [4,6,9,11]):\n",
        "        numOfDays = 30\n",
        "    if (m ==2):\n",
        "        if(leapyear(year)):\n",
        "            numOfDays =29\n",
        "        else:\n",
        "            numOfDays =28\n",
        "    if (d > numOfDays):\n",
        "        return True\n",
        "    else:\n",
        "        return False"
      ],
      "execution_count": null,
      "outputs": []
    },
    {
      "cell_type": "code",
      "metadata": {
        "id": "_IUszO4WB4-_",
        "colab": {
          "base_uri": "https://localhost:8080/"
        },
        "outputId": "7fa7d62a-08ce-4bf2-9d1f-765be18ea0ab"
      },
      "source": [
        "year = 2020\n",
        "month = 7\n",
        "day =9\n",
        "n = 1000\n",
        "\n",
        "for _ in range(n): \n",
        "    day += 1\n",
        "    if (invalidaDay(year, month, day)):\n",
        "        day = 1\n",
        "        month +=1\n",
        "        if(month>12):\n",
        "            month = 1\n",
        "            year+=1\n",
        "print(year,month,day)"
      ],
      "execution_count": null,
      "outputs": [
        {
          "output_type": "stream",
          "text": [
            "2023 4 5\n"
          ],
          "name": "stdout"
        }
      ]
    },
    {
      "cell_type": "code",
      "metadata": {
        "colab": {
          "base_uri": "https://localhost:8080/"
        },
        "id": "qlqlSTMkAfKZ",
        "outputId": "8fa75f2e-4efa-4b90-f4f2-09e0648ee19b"
      },
      "source": [
        "year = 2020\n",
        "month = 7\n",
        "day =9\n",
        "n = 1000\n",
        "import datetime\n",
        "day = datetime.date(year, month, day)\n",
        "theday = day + datetime.timedelta(n)\n",
        "print(theday)"
      ],
      "execution_count": null,
      "outputs": [
        {
          "output_type": "stream",
          "text": [
            "2023-04-05\n"
          ],
          "name": "stdout"
        }
      ]
    },
    {
      "cell_type": "markdown",
      "metadata": {
        "id": "eBxkDNg225pl"
      },
      "source": [
        "# 단력 만들기"
      ]
    },
    {
      "cell_type": "code",
      "metadata": {
        "colab": {
          "base_uri": "https://localhost:8080/"
        },
        "id": "PzjjMe5o27Hv",
        "outputId": "a4547594-67d1-47b5-9962-50c2ef9093b6"
      },
      "source": [
        "year = 2020\n",
        "month = 7\n",
        "day_of_week = 3\n",
        "\n",
        "print(year, '년',month,'월:')\n",
        "\n",
        "weekdays = ['일','월','화','수','목','금','토']\n",
        "#print(weekdays)\n",
        "for day in weekdays:\n",
        "    print(' ' ,day, end= ' ')\n",
        "\n",
        "print()\n",
        "\n",
        "for _ in range(day_of_week):\n",
        "    print('    ',end = ' ')\n",
        "\n",
        "def leapyear(y):\n",
        "    if ((y % 4 == 0 and y % 100 != 0)or y % 400 ==0):\n",
        "        return True\n",
        "    else:\n",
        "        return False\n",
        "\n",
        "def dayOfMonth(y,m):\n",
        "    numOfDays = 31\n",
        "    if (m in [4,6,9,11]):\n",
        "        numOfDays = 30\n",
        "    if (m ==2):\n",
        "        if(leapyear(year)):\n",
        "            numOfDays =29\n",
        "        else:\n",
        "            numOfDays =28\n",
        "    return numOfDays\n",
        "\n",
        "numOfMonth= dayOfMonth(year,month)\n",
        "for day in range(1, numOfMonth+1):\n",
        "    if (day<10):\n",
        "        print('  ',day, end=' ')\n",
        "    else:\n",
        "        print(' ',day, end=' ')\n",
        "    if ((day_of_week + day) % 7 ==0):\n",
        "        print()\n",
        "\n",
        "print()"
      ],
      "execution_count": null,
      "outputs": [
        {
          "output_type": "stream",
          "text": [
            "2020 년 7 월:\n",
            "  일   월   화   수   목   금   토 \n",
            "                  1    2    3    4 \n",
            "   5    6    7    8    9   10   11 \n",
            "  12   13   14   15   16   17   18 \n",
            "  19   20   21   22   23   24   25 \n",
            "  26   27   28   29   30   31 \n"
          ],
          "name": "stdout"
        }
      ]
    },
    {
      "cell_type": "code",
      "metadata": {
        "colab": {
          "base_uri": "https://localhost:8080/"
        },
        "id": "krHkBoSQ4wO5",
        "outputId": "d3f53d96-5d5e-4107-bec6-52f69be5e39a"
      },
      "source": [
        "def dayOfTheWeek(y,m,d):\n",
        "    t1 = y-(14-m) //12\n",
        "    t2 = t1+(t1//4) - (t1//100) + (t1//400)\n",
        "    t3 = m+12 *((14-m)//12)-2\n",
        "    return (d+t2 +(31*t3 //12)) % 7\n",
        "\n",
        "year = 2020\n",
        "month = 7\n",
        "day = 10\n",
        "print(dayOfTheWeek(year,month,day))"
      ],
      "execution_count": null,
      "outputs": [
        {
          "output_type": "stream",
          "text": [
            "5\n"
          ],
          "name": "stdout"
        }
      ]
    },
    {
      "cell_type": "code",
      "metadata": {
        "colab": {
          "base_uri": "https://localhost:8080/"
        },
        "id": "c07e6dcj5JXI",
        "outputId": "cdde6090-1f13-433d-b553-39ff5fd40980"
      },
      "source": [
        "def printCalendar(y,m):\n",
        "    numOfMonth = dayOfMonth(y,m)\n",
        "    day_of_week = dayOfTheWeek(y,m,1)\n",
        "    print(y,'년',m,'월:')\n",
        "\n",
        "    for day in weekdays:\n",
        "        print(' ',day,end=' ')\n",
        "    print()\n",
        "\n",
        "    \n",
        "    for _ in range(day_of_week):\n",
        "        print('    ',end = ' ')\n",
        "        \n",
        "    for day in range(1, numOfMonth+1):\n",
        "        if (day<10):\n",
        "            print('  ',day, end=' ')\n",
        "        else:\n",
        "            print(' ',day, end=' ')\n",
        "        if ((day_of_week + day) % 7 ==0):\n",
        "            print()\n",
        "    print()\n",
        "year= 2021\n",
        "month = 7\n",
        "printCalendar(year,month)"
      ],
      "execution_count": null,
      "outputs": [
        {
          "output_type": "stream",
          "text": [
            "2021 년 7 월:\n",
            "  일   월   화   수   목   금   토 \n",
            "                       1    2    3 \n",
            "   4    5    6    7    8    9   10 \n",
            "  11   12   13   14   15   16   17 \n",
            "  18   19   20   21   22   23   24 \n",
            "  25   26   27   28   29   30   31 \n",
            "\n"
          ],
          "name": "stdout"
        }
      ]
    },
    {
      "cell_type": "markdown",
      "metadata": {
        "id": "JJ95tC1zVj1g"
      },
      "source": [
        "# 콜라츠의 추측"
      ]
    },
    {
      "cell_type": "code",
      "metadata": {
        "colab": {
          "base_uri": "https://localhost:8080/"
        },
        "id": "iG5Ed7JkVoDA",
        "outputId": "a5d548fd-bf2a-4fa0-de59-493287e8f6e2"
      },
      "source": [
        "def collatz(n):\n",
        "    seq = [n]\n",
        "    while (n>1):\n",
        "        if (n %2 ==0):\n",
        "            n = n //2\n",
        "        else:\n",
        "            n = 3 * n +1\n",
        "        seq.append(n)\n",
        "    return seq\n",
        "\n",
        "for n in range(1,10):\n",
        "    print(collatz(n))"
      ],
      "execution_count": null,
      "outputs": [
        {
          "output_type": "stream",
          "text": [
            "[1]\n",
            "[2, 1]\n",
            "[3, 10, 5, 16, 8, 4, 2, 1]\n",
            "[4, 2, 1]\n",
            "[5, 16, 8, 4, 2, 1]\n",
            "[6, 3, 10, 5, 16, 8, 4, 2, 1]\n",
            "[7, 22, 11, 34, 17, 52, 26, 13, 40, 20, 10, 5, 16, 8, 4, 2, 1]\n",
            "[8, 4, 2, 1]\n",
            "[9, 28, 14, 7, 22, 11, 34, 17, 52, 26, 13, 40, 20, 10, 5, 16, 8, 4, 2, 1]\n"
          ],
          "name": "stdout"
        }
      ]
    },
    {
      "cell_type": "code",
      "metadata": {
        "colab": {
          "base_uri": "https://localhost:8080/"
        },
        "id": "Az4wwtIXWRou",
        "outputId": "d2d4b762-6404-40cd-da0a-4f94d8de0847"
      },
      "source": [
        "n = 0\n",
        "while (True):\n",
        "    n+=1\n",
        "    halestone = collatz(n)\n",
        "    if (len(halestone) ==100):\n",
        "        break\n",
        "print(halestone)\n",
        "print('길이가 100인 가장 작은 우박수는 ',n)"
      ],
      "execution_count": null,
      "outputs": [
        {
          "output_type": "stream",
          "text": [
            "[322, 161, 484, 242, 121, 364, 182, 91, 274, 137, 412, 206, 103, 310, 155, 466, 233, 700, 350, 175, 526, 263, 790, 395, 1186, 593, 1780, 890, 445, 1336, 668, 334, 167, 502, 251, 754, 377, 1132, 566, 283, 850, 425, 1276, 638, 319, 958, 479, 1438, 719, 2158, 1079, 3238, 1619, 4858, 2429, 7288, 3644, 1822, 911, 2734, 1367, 4102, 2051, 6154, 3077, 9232, 4616, 2308, 1154, 577, 1732, 866, 433, 1300, 650, 325, 976, 488, 244, 122, 61, 184, 92, 46, 23, 70, 35, 106, 53, 160, 80, 40, 20, 10, 5, 16, 8, 4, 2, 1]\n",
            "길이가 100인 가장 작은 우박수는  322\n"
          ],
          "name": "stdout"
        }
      ]
    },
    {
      "cell_type": "markdown",
      "metadata": {
        "id": "x6lq3O83VkEk"
      },
      "source": [
        "# 로마에서 아라비아까지"
      ]
    },
    {
      "cell_type": "code",
      "metadata": {
        "colab": {
          "base_uri": "https://localhost:8080/"
        },
        "id": "8WH7ui0Y4t1F",
        "outputId": "aed8c0ae-46e5-4893-dd73-d4b9fccb2905"
      },
      "source": [
        "string =\"MDCLXVI\"\n",
        "\n",
        "print(string[0])"
      ],
      "execution_count": null,
      "outputs": [
        {
          "output_type": "stream",
          "text": [
            "M\n"
          ],
          "name": "stdout"
        }
      ]
    },
    {
      "cell_type": "code",
      "metadata": {
        "colab": {
          "base_uri": "https://localhost:8080/"
        },
        "id": "B3QSudbi4t4B",
        "outputId": "36cb99ac-3831-436f-bf5c-51ce452863db"
      },
      "source": [
        "def getValueOf(symbol):\n",
        "    if symbol == \"M\" : return 1000\n",
        "    elif symbol == \"D\" : return 500\n",
        "    elif symbol == \"C\" : return 100\n",
        "    elif symbol == \"L\" : return 50\n",
        "    elif symbol == \"X\" : return 10\n",
        "    elif symbol == \"V\" : return 5\n",
        "    elif symbol == \"I\" : return 1\n",
        "roman = 'MDCLXVI'\n",
        "for i in range(len(roman)):\n",
        "    print(roman[i],\":\",getValueOf(roman[i]))"
      ],
      "execution_count": null,
      "outputs": [
        {
          "output_type": "stream",
          "text": [
            "M : 1000\n",
            "D : 500\n",
            "C : 100\n",
            "L : 50\n",
            "X : 10\n",
            "V : 5\n",
            "I : 1\n"
          ],
          "name": "stdout"
        }
      ]
    },
    {
      "cell_type": "code",
      "metadata": {
        "colab": {
          "base_uri": "https://localhost:8080/"
        },
        "id": "uOOGIHjG5nqg",
        "outputId": "716bab31-ba69-4ea1-9e24-243584526dd1"
      },
      "source": [
        "roman = 'MDCLXVI'\n",
        "arabic =0 \n",
        "for i in range(len(roman)):\n",
        "    value = getValueOf(roman[i])\n",
        "    arabic += value\n",
        "print(arabic)"
      ],
      "execution_count": null,
      "outputs": [
        {
          "output_type": "stream",
          "text": [
            "1666\n"
          ],
          "name": "stdout"
        }
      ]
    },
    {
      "cell_type": "code",
      "metadata": {
        "id": "BdJansBA56ge"
      },
      "source": [
        "romanDict = {\"M\":1000,\"D\":500,\"C\":100,\"L\":50,\"X\":10,\"Y\":5,\"I\":1}\n",
        "def toArabicNumber(roman):\n",
        "    arabic = 0\n",
        "    for i in range(len(roman)):\n",
        "        value = romanDict[roman[i]]\n",
        "        if (i < (len(roman) -1 ) and value < romanDict[roman[i+1]] ):\n",
        "            arabic -=value\n",
        "        else:\n",
        "            arabic += value\n",
        "    return arabic"
      ],
      "execution_count": null,
      "outputs": []
    },
    {
      "cell_type": "code",
      "metadata": {
        "colab": {
          "base_uri": "https://localhost:8080/"
        },
        "id": "ZGDSnfhE6aRN",
        "outputId": "6adafbf5-094d-43da-d8fc-2fcbb170bf05"
      },
      "source": [
        "romans = ['CCCLXIX','LXXX']\n",
        "arabisc = []\n",
        "for str in romans:\n",
        "    arabisc.append(toArabicNumber(str))\n",
        "print(arabisc)"
      ],
      "execution_count": null,
      "outputs": [
        {
          "output_type": "stream",
          "text": [
            "[369, 80]\n"
          ],
          "name": "stdout"
        }
      ]
    },
    {
      "cell_type": "markdown",
      "metadata": {
        "id": "-4pEhu3v7gi6"
      },
      "source": [
        "# 로마에서는 로마의 숫자를!"
      ]
    },
    {
      "cell_type": "code",
      "metadata": {
        "colab": {
          "base_uri": "https://localhost:8080/"
        },
        "id": "HpgGJjB77fjr",
        "outputId": "da9fdf8a-ef03-44c3-8df2-1d051bf87d1d"
      },
      "source": [
        "romanDict = { 1:'I', 5:'V', 10:'X', 50:'L', 100:'C', 500:'D', 1000:'M' }\n",
        "print(romanDict)\n",
        "print(romanDict.keys())\n",
        "print(romanDict.values())\n",
        "print(romanDict.items())\n",
        "for key in romanDict.keys():\n",
        "    print(key, ':', romanDict[key])"
      ],
      "execution_count": null,
      "outputs": [
        {
          "output_type": "stream",
          "text": [
            "{1: 'I', 5: 'V', 10: 'X', 50: 'L', 100: 'C', 500: 'D', 1000: 'M'}\n",
            "dict_keys([1, 5, 10, 50, 100, 500, 1000])\n",
            "dict_values(['I', 'V', 'X', 'L', 'C', 'D', 'M'])\n",
            "dict_items([(1, 'I'), (5, 'V'), (10, 'X'), (50, 'L'), (100, 'C'), (500, 'D'), (1000, 'M')])\n",
            "1 : I\n",
            "5 : V\n",
            "10 : X\n",
            "50 : L\n",
            "100 : C\n",
            "500 : D\n",
            "1000 : M\n"
          ],
          "name": "stdout"
        }
      ]
    },
    {
      "cell_type": "code",
      "metadata": {
        "colab": {
          "base_uri": "https://localhost:8080/"
        },
        "id": "rEkNPdTL7gBR",
        "outputId": "fb6932b2-fff2-406e-f80d-5b125e9b5ec3"
      },
      "source": [
        "def romanNumber1(n):\n",
        "    str = \"\"\n",
        "    while (n >= 1):\n",
        "        if (n == 9):\n",
        "            str += romanDict[1] + romanDict[10] # I, X\n",
        "            n -= 9\n",
        "        elif (n == 4):\n",
        "            str += romanDict[1] + romanDict[5]\n",
        "            n -= 4\n",
        "        elif (n >= 5):\n",
        "            str += romanDict[5] # v \n",
        "            n -= 5\n",
        "        else:\n",
        "            for _ in range(n):\n",
        "                str += romanDict[1]\n",
        "            n -= n\n",
        "    return str\n",
        "\n",
        "for n in range(1,10):\n",
        "    print(n , \":\", romanNumber1(n))"
      ],
      "execution_count": null,
      "outputs": [
        {
          "output_type": "stream",
          "text": [
            "1 : I\n",
            "2 : II\n",
            "3 : III\n",
            "4 : IV\n",
            "5 : V\n",
            "6 : VI\n",
            "7 : VII\n",
            "8 : VIII\n",
            "9 : IX\n"
          ],
          "name": "stdout"
        }
      ]
    },
    {
      "cell_type": "markdown",
      "metadata": {
        "id": "VK9zAh8bXI0i"
      },
      "source": [
        "# 스무고개를 넘어보자!"
      ]
    },
    {
      "cell_type": "code",
      "metadata": {
        "id": "ppHK2O-Y8FpK",
        "colab": {
          "base_uri": "https://localhost:8080/"
        },
        "outputId": "0470e870-e1a2-41e1-ebf7-9d09528df63a"
      },
      "source": [
        "import random\n",
        "answer = random.randint(1,1000)\n",
        "start = 1\n",
        "end = 1000\n",
        "while(start < end):\n",
        "    mid = (start + end) //2\n",
        "    print(start, end, mid)\n",
        "    if (mid < answer):\n",
        "        start = mid +1\n",
        "    else:\n",
        "        end = mid\n",
        "    \n",
        "print(start, end, mid)"
      ],
      "execution_count": 3,
      "outputs": [
        {
          "output_type": "stream",
          "text": [
            "1 1000 500\n",
            "501 1000 750\n",
            "751 1000 875\n",
            "876 1000 938\n",
            "876 938 907\n",
            "908 938 923\n",
            "924 938 931\n",
            "932 938 935\n",
            "932 935 933\n",
            "932 933 932\n",
            "932 932 932\n"
          ],
          "name": "stdout"
        }
      ]
    }
  ]
}